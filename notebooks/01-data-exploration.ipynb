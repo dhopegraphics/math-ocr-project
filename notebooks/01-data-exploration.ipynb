{
 "cells": [
  {
   "cell_type": "code",
   "execution_count": 13,
   "id": "da22618d",
   "metadata": {},
   "outputs": [],
   "source": [
    "import sys\n",
    "import os\n",
    "sys.path.append(os.path.abspath(os.path.join(os.getcwd(), '..')))"
   ]
  },
  {
   "cell_type": "code",
   "execution_count": 14,
   "id": "c372daec",
   "metadata": {},
   "outputs": [],
   "source": [
    "from src.data.preprocessing import load_im2latex_dataset\n",
    "from src.models.predict import MathOCR"
   ]
  },
  {
   "cell_type": "code",
   "execution_count": null,
   "id": "061a7ade",
   "metadata": {},
   "outputs": [],
   "source": [
    "print(\"All special tokens:\")\n",
    "for i, token in id2token.items():\n",
    "    if len(token) <= 2 or token in ['<pad>', '<unk>', '<start>', '<end>']:\n",
    "        print(f\"{i}: {token}\")"
   ]
  }
 ],
 "metadata": {
  "kernelspec": {
   "display_name": "venv",
   "language": "python",
   "name": "python3"
  },
  "language_info": {
   "codemirror_mode": {
    "name": "ipython",
    "version": 3
   },
   "file_extension": ".py",
   "mimetype": "text/x-python",
   "name": "python",
   "nbconvert_exporter": "python",
   "pygments_lexer": "ipython3",
   "version": "3.12.9"
  }
 },
 "nbformat": 4,
 "nbformat_minor": 5
}
